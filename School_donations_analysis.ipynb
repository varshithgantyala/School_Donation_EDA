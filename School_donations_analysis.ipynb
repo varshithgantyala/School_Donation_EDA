{
 "cells": [
  {
   "cell_type": "code",
   "execution_count": null,
   "id": "68a5b21f-07b0-4d3d-b950-451bf50d918d",
   "metadata": {},
   "outputs": [],
   "source": [
    "import numpy as np\n",
    "import pandas as pd\n",
    "import matplotlib.pyplot as plt\n",
    "import chart_studio.plotly as py\n",
    "import plotly.offline as of\n",
    "import cufflinks as cf\n",
    "import datetime as dt\n",
    "%matplotlib inline"
   ]
  },
  {
   "cell_type": "code",
   "execution_count": null,
   "id": "1839196a-9d08-41f2-97e9-87cbb3f66c4c",
   "metadata": {},
   "outputs": [],
   "source": [
    "of.init_notebook_mode(connected = True)\n",
    "cf.go_offline()"
   ]
  },
  {
   "cell_type": "code",
   "execution_count": null,
   "id": "9ca4168c-1a77-48e8-8c22-9f1f6635be2c",
   "metadata": {},
   "outputs": [],
   "source": [
    "donations = pd.read_csv('Downloads/Donations.csv/Donations.csv')"
   ]
  },
  {
   "cell_type": "code",
   "execution_count": null,
   "id": "84ed574f-ad3b-4163-887e-4f4ee412bc7e",
   "metadata": {},
   "outputs": [],
   "source": [
    "projects = pd.read_csv('Downloads/Projects.csv/Projects.csv')"
   ]
  },
  {
   "cell_type": "code",
   "execution_count": null,
   "id": "48f99881-deb8-4cf8-9ace-eb1c5428f3cb",
   "metadata": {},
   "outputs": [],
   "source": [
    "# Fix by forcing pandas to read the whole file at once\n",
    "donors = pd.read_csv('Downloads/Donors.csv/Donors.csv', low_memory=False)"
   ]
  },
  {
   "cell_type": "code",
   "execution_count": null,
   "id": "145f0af3-7b9b-4822-9d8b-c5c8f4925c1a",
   "metadata": {},
   "outputs": [],
   "source": [
    "teachers = pd.read_csv('Downloads/Teachers.csv/Teachers.csv')"
   ]
  },
  {
   "cell_type": "code",
   "execution_count": null,
   "id": "0d282eee-89ef-477d-a06d-7b1f61e95994",
   "metadata": {},
   "outputs": [],
   "source": [
    "resources = pd.read_csv('Downloads/Resources.csv/Resources.csv')"
   ]
  },
  {
   "cell_type": "code",
   "execution_count": null,
   "id": "d4ebaddb-ac83-4093-bc85-4183c693f9bc",
   "metadata": {},
   "outputs": [],
   "source": [
    "schools = pd.read_csv('Downloads/Schools.csv/Schools.csv')"
   ]
  },
  {
   "cell_type": "code",
   "execution_count": null,
   "id": "03bf131b-d690-4452-9955-18ab4ceae075",
   "metadata": {},
   "outputs": [],
   "source": [
    "print('Shape of donations dataframe is:' , donations.shape)\n",
    "print('Shape of donors dataframe is:' , donors.shape)\n",
    "print('Shape of projects dataframe is:' , projects.shape)\n",
    "print('Shape of resources dataframe is:' , resources.shape)\n",
    "print('Shape of schools dataframe is:' , schools.shape)\n",
    "print('Shape of teachers dataframe is:' , teachers.shape)"
   ]
  },
  {
   "cell_type": "code",
   "execution_count": null,
   "id": "989af6e2-b606-4115-9e27-afd0959b3e11",
   "metadata": {},
   "outputs": [],
   "source": [
    "donations.head()"
   ]
  },
  {
   "cell_type": "code",
   "execution_count": null,
   "id": "d061384f-40ac-4b52-b4b6-29c6cc9d3bb1",
   "metadata": {},
   "outputs": [],
   "source": [
    "donors.head()"
   ]
  },
  {
   "cell_type": "code",
   "execution_count": null,
   "id": "0a6a13ed-7428-4e5d-b89e-649437003a87",
   "metadata": {},
   "outputs": [],
   "source": [
    "projects.head()"
   ]
  },
  {
   "cell_type": "code",
   "execution_count": null,
   "id": "8ff6344b-1754-4fd4-ba46-20f28b838e5f",
   "metadata": {},
   "outputs": [],
   "source": [
    "resources.head()"
   ]
  },
  {
   "cell_type": "code",
   "execution_count": null,
   "id": "9eb0e959-cf21-42b6-a02b-8bf3fdffad8c",
   "metadata": {},
   "outputs": [],
   "source": [
    "teachers.head()"
   ]
  },
  {
   "cell_type": "code",
   "execution_count": null,
   "id": "b641df71-6b0d-492e-84a7-dfdf974d9e96",
   "metadata": {},
   "outputs": [],
   "source": [
    "schools.head()"
   ]
  },
  {
   "cell_type": "code",
   "execution_count": null,
   "id": "e374a6b1-a19a-4feb-b7fb-5f0d80083ebf",
   "metadata": {},
   "outputs": [],
   "source": [
    "donations.describe()"
   ]
  },
  {
   "cell_type": "code",
   "execution_count": null,
   "id": "ec729969-374f-4ef6-8aa5-a9fff0b4d91c",
   "metadata": {},
   "outputs": [],
   "source": [
    "donors.describe()"
   ]
  },
  {
   "cell_type": "code",
   "execution_count": null,
   "id": "ad7669bb-514b-4040-b726-33e9fcf9da2c",
   "metadata": {},
   "outputs": [],
   "source": [
    "schools.describe()"
   ]
  },
  {
   "cell_type": "code",
   "execution_count": null,
   "id": "8fa63aea-4851-437f-a230-5e0e7bfeb74b",
   "metadata": {},
   "outputs": [],
   "source": [
    "projects.describe()"
   ]
  },
  {
   "cell_type": "code",
   "execution_count": null,
   "id": "47cb4d52-2dce-4672-a9a3-3095538752b9",
   "metadata": {},
   "outputs": [],
   "source": [
    "teachers.describe()"
   ]
  },
  {
   "cell_type": "code",
   "execution_count": null,
   "id": "f5ce3701-b58e-45af-b6ac-02584de7ba9e",
   "metadata": {},
   "outputs": [],
   "source": [
    "resources.describe()"
   ]
  },
  {
   "cell_type": "code",
   "execution_count": null,
   "id": "00d8858b-5764-460b-971f-a865be5c9d7a",
   "metadata": {},
   "outputs": [],
   "source": [
    "data = pd.merge(donations , projects , how='inner' , on = 'Project ID')"
   ]
  },
  {
   "cell_type": "code",
   "execution_count": null,
   "id": "4f6e8f09-75d3-4244-a7df-2ee864f7a581",
   "metadata": {},
   "outputs": [],
   "source": [
    "data2 = pd.merge(data , donors , how='inner' , on='Donor ID')"
   ]
  },
  {
   "cell_type": "code",
   "execution_count": null,
   "id": "302d5b00-5e85-4b89-8934-1d9a29b4e852",
   "metadata": {},
   "outputs": [],
   "source": [
    "data3 = pd.merge(data2 , schools , how='inner' , on='School ID')"
   ]
  },
  {
   "cell_type": "code",
   "execution_count": null,
   "id": "12d2a73f-2c24-412d-aec3-358be8a8ebbb",
   "metadata": {},
   "outputs": [],
   "source": [
    "data4 = pd.merge(data3, teachers , how='inner' , on='Teacher ID')"
   ]
  },
  {
   "cell_type": "code",
   "execution_count": null,
   "id": "dbf831b9-12c2-4cfc-a315-ababc23cd779",
   "metadata": {},
   "outputs": [],
   "source": [
    "data4.head()"
   ]
  },
  {
   "cell_type": "code",
   "execution_count": null,
   "id": "13ad6a68-595a-4db6-a2cf-e525a2dc1c18",
   "metadata": {},
   "outputs": [],
   "source": [
    "a = data4.columns.values.tolist()\n",
    "a"
   ]
  },
  {
   "cell_type": "code",
   "execution_count": null,
   "id": "6e0d2203-fef9-4833-963d-01e235f1eaa2",
   "metadata": {},
   "outputs": [],
   "source": [
    "s = schools['School State'].value_counts().sort_values(ascending = False).head(10)\n",
    "s"
   ]
  },
  {
   "cell_type": "code",
   "execution_count": null,
   "id": "80649868-bece-4ef3-94e7-55d00562d39f",
   "metadata": {},
   "outputs": [],
   "source": [
    "s.iplot(kind='bar', \n",
    "        xTitle='State', \n",
    "        yTitle='Number of Schools', \n",
    "        title='Top 10 States by Number of Participating Schools')"
   ]
  },
  {
   "cell_type": "code",
   "execution_count": null,
   "id": "23d89e54-91c5-40be-8160-67c6f499f404",
   "metadata": {},
   "outputs": [],
   "source": [
    "s2 = data4.groupby('School State')['Donation Amount'].mean().sort_values(ascending=False).head(10)\n",
    "s2"
   ]
  },
  {
   "cell_type": "code",
   "execution_count": null,
   "id": "49d0bdac-f18a-45a5-ba55-0ec0e3dff06e",
   "metadata": {},
   "outputs": [],
   "source": [
    "s2.iplot(kind='bar', \n",
    "         xTitle='State', \n",
    "         yTitle='Average Donation Amount ($)', \n",
    "         title='Top 10 States by Average Donation Amount per Project', \n",
    "         colorscale='paired')"
   ]
  },
  {
   "cell_type": "code",
   "execution_count": null,
   "id": "b788d3ec-b79a-4b17-9e7c-7cc66bce2235",
   "metadata": {},
   "outputs": [],
   "source": [
    "mean = np.mean(data4['Donation Amount'].dropna())\n",
    "median = np.median(data4['Donation Amount'].dropna())\n",
    "percentiles = np.percentile(data4['Donation Amount'].dropna() ,[25,75])\n",
    "minimum = data4['Donation Amount'].dropna().min()\n",
    "maximum = data4['Donation Amount'].dropna().max()\n",
    "\n",
    "print('mean donation amount is:' ,np.round(mean,2))\n",
    "print('median donation amount is:' ,median)\n",
    "print('25% and 75% donation amount is:' ,percentiles)\n",
    "print('minimum donation amount is:' ,minimum)\n",
    "print('maximum donation amount is:' ,maximum)"
   ]
  },
  {
   "cell_type": "code",
   "execution_count": null,
   "id": "ed74017c-1737-429b-ad2b-89932f98a50a",
   "metadata": {},
   "outputs": [],
   "source": [
    "x = np.sort(data4[\"Donation Amount\"].dropna())\n",
    "y = np.arange(1,len(x)+1)/len(x)\n",
    "plt.plot(x,y,marker = '.')"
   ]
  },
  {
   "cell_type": "code",
   "execution_count": null,
   "id": "c85e2508-efb3-4347-b80e-d62a1500c901",
   "metadata": {},
   "outputs": [],
   "source": [
    "s3 = data4.groupby('Donor State')['Donation ID'].count().sort_values(ascending = False).head(15)\n",
    "s3"
   ]
  },
  {
   "cell_type": "code",
   "execution_count": null,
   "id": "b97a7ab6-425d-4667-ab18-0fa272e95dbd",
   "metadata": {},
   "outputs": [],
   "source": [
    "s3.iplot(kind='bar', \n",
    "         xTitle='State', \n",
    "         yTitle='Total Number of Donations', \n",
    "         title='Top 15 States by Total Number of Donations Made', \n",
    "         colorscale='paired')"
   ]
  },
  {
   "cell_type": "code",
   "execution_count": null,
   "id": "a1113804-9ec1-432a-9181-8fda15114d65",
   "metadata": {},
   "outputs": [],
   "source": [
    "s4 = schools['School State'].value_counts()\n",
    "s5 = data4.groupby('Donor State')['Donation ID'].count()\n",
    "df = pd.concat([s4,s5],axis=1,keys=['Projects','Donations'])"
   ]
  },
  {
   "cell_type": "code",
   "execution_count": null,
   "id": "69685d68-8623-48d9-b85a-9e0f5c79e984",
   "metadata": {},
   "outputs": [],
   "source": [
    "df = df.dropna()"
   ]
  },
  {
   "cell_type": "code",
   "execution_count": null,
   "id": "f00a433a-7cb9-40b7-8e85-39053ab345ff",
   "metadata": {},
   "outputs": [],
   "source": [
    "df.head()"
   ]
  },
  {
   "cell_type": "code",
   "execution_count": null,
   "id": "1590e538-a1c7-44dc-a12f-79dba592efae",
   "metadata": {},
   "outputs": [],
   "source": [
    "df.iplot(kind='scatter',xTitle='Projects',\n",
    "         yTitle='Donations',title='Projects vs Donations',\n",
    "         symbol='x',colorscale='paired',mode='markers')"
   ]
  },
  {
   "cell_type": "code",
   "execution_count": null,
   "id": "cc5cc7b4-2fe4-45db-aec5-aea3c7eea6aa",
   "metadata": {},
   "outputs": [],
   "source": [
    "slope,intercept = np.polyfit(df.Projects,df.Donations,1)\n",
    "x = np.array([df.Projects.min(),df.Projects.max()])\n",
    "y = slope*x + intercept\n",
    "plt.plot(x,y)"
   ]
  },
  {
   "cell_type": "code",
   "execution_count": null,
   "id": "6169efb8-7a1b-4073-afa0-a3bae4ec1c47",
   "metadata": {},
   "outputs": [],
   "source": [
    "df.plot.scatter(x='Projects' , y='Donations')\n",
    "slope,intercept = np.polyfit(df.Projects,df.Donations,1)\n",
    "x = np.array([df.Projects.min(),df.Projects.max()])\n",
    "y = slope*x + intercept\n",
    "plt.plot(x,y)\n",
    "plt.tight_layout()\n",
    "plt.margins(0.05)"
   ]
  },
  {
   "cell_type": "code",
   "execution_count": null,
   "id": "8ca8f99d-5f25-440f-8dbe-56a41f6e9558",
   "metadata": {},
   "outputs": [],
   "source": [
    "data4.head(2)"
   ]
  },
  {
   "cell_type": "code",
   "execution_count": null,
   "id": "37c30369-d651-48e6-8d20-e8509e3acf5d",
   "metadata": {},
   "outputs": [],
   "source": [
    "s6 = data4[\"Project Type\"].value_counts()\n",
    "s6"
   ]
  },
  {
   "cell_type": "code",
   "execution_count": null,
   "id": "de02bf8e-3213-4587-93b2-a9c2be7f0b71",
   "metadata": {},
   "outputs": [],
   "source": [
    "s7 = data4.groupby('Project Type')['Donation Amount'].sum().astype(int)\n",
    "s7"
   ]
  },
  {
   "cell_type": "code",
   "execution_count": null,
   "id": "473c42d5-5a2b-44d4-acc7-b72d9ffc3d4f",
   "metadata": {},
   "outputs": [],
   "source": [
    "plt.subplot(2,1,1)\n",
    "plt.pie(s6 , startangle=90)\n",
    "plt.subplot(2,1,2)\n",
    "plt.pie(s7 , startangle=90)\n",
    "plt.tight_layout()\n",
    "plt.margins(0.05)\n",
    "fig = plt.gcf()\n",
    "fig.set_size_inches(25,15)"
   ]
  },
  {
   "cell_type": "code",
   "execution_count": null,
   "id": "57357be4-4319-4a91-a9fb-3a4bad194c70",
   "metadata": {},
   "outputs": [],
   "source": [
    "data4['Project Subject Category Tree'].nunique()"
   ]
  },
  {
   "cell_type": "code",
   "execution_count": null,
   "id": "9c2fe0d3-c3e1-4aa4-9b58-8ada9791b4be",
   "metadata": {},
   "outputs": [],
   "source": [
    "s8 = data4.groupby('Project Subject Category Tree')['Donation Amount'].sum().astype(int).sort_values(ascending = False).head(15)\n",
    "s8"
   ]
  },
  {
   "cell_type": "code",
   "execution_count": null,
   "id": "e0824b92-5fc6-4c75-b831-53d141ee3a90",
   "metadata": {},
   "outputs": [],
   "source": [
    "s9 = s8/1000000\n",
    "s9.iplot(kind=\"bar\" , xTitle='Project sub category' , yTitle='Donation amount in millions',\n",
    "        title='Donation amount by project subject' , colorscale='paired')"
   ]
  },
  {
   "cell_type": "code",
   "execution_count": null,
   "id": "440d0491-e952-4686-bc68-f5c83b0a5a32",
   "metadata": {},
   "outputs": [],
   "source": [
    "data4[['Project Posted Date' , 'Project Fully Funded Date']].isnull().sum()"
   ]
  },
  {
   "cell_type": "code",
   "execution_count": null,
   "id": "8998d074-40e5-48e0-b759-063910bfae6f",
   "metadata": {},
   "outputs": [],
   "source": [
    "data4[['Project Posted Date' , 'Project Fully Funded Date']].head()"
   ]
  },
  {
   "cell_type": "code",
   "execution_count": null,
   "id": "bbe39bbd-16ce-4aeb-b0c3-330a45c57e34",
   "metadata": {},
   "outputs": [],
   "source": [
    "data4['Project Posted Date'] = pd.to_datetime(data4['Project Posted Date'])"
   ]
  },
  {
   "cell_type": "code",
   "execution_count": null,
   "id": "67e53094-051b-4aa5-bd9b-bfcf4b4572ad",
   "metadata": {},
   "outputs": [],
   "source": [
    "data4['Project Fully Funded Date'] = pd.to_datetime(data4['Project Fully Funded Date'])"
   ]
  },
  {
   "cell_type": "code",
   "execution_count": null,
   "id": "5e85aa69-9cfa-458d-bbd9-b908499f5c77",
   "metadata": {},
   "outputs": [],
   "source": [
    "data4['Funding Time'] = data4['Project Fully Funded Date'] - data4['Project Posted Date'] \n",
    "data4[['Funding Time','Project Posted Date' , 'Project Fully Funded Date']].head()"
   ]
  },
  {
   "cell_type": "code",
   "execution_count": null,
   "id": "92cb755a-2703-4916-81c8-df145555e2cd",
   "metadata": {},
   "outputs": [],
   "source": [
    "data4[['Funding Time','Project Posted Date' , 'Project Fully Funded Date']].isnull().sum()"
   ]
  },
  {
   "cell_type": "code",
   "execution_count": null,
   "id": "348b9395-2e9e-4373-bf66-ced3bfcf4690",
   "metadata": {},
   "outputs": [],
   "source": [
    "data5 = data4[pd.notnull(data4['Funding Time'])]\n",
    "data5[['Funding Time','Project Posted Date' , 'Project Fully Funded Date']].isnull().sum()"
   ]
  },
  {
   "cell_type": "code",
   "execution_count": null,
   "id": "47749424-296e-4e56-81a0-05fd2575cf6d",
   "metadata": {},
   "outputs": [],
   "source": [
    "import datetime as dt\n",
    "data5['Funding Time'] = data5['Funding Time'].dt.days"
   ]
  },
  {
   "cell_type": "code",
   "execution_count": null,
   "id": "8432e134-162d-40a4-ba83-8bf2bcd50fce",
   "metadata": {},
   "outputs": [],
   "source": [
    "data5[['Funding Time','Project Posted Date' , 'Project Fully Funded Date']].head()"
   ]
  },
  {
   "cell_type": "code",
   "execution_count": null,
   "id": "78e40a45-379e-4c89-91f9-1974af39fadd",
   "metadata": {},
   "outputs": [],
   "source": [
    "wrong_overall_mean_time = data5['Funding Time'].mean()\n",
    "wrong_overall_mean_time"
   ]
  },
  {
   "cell_type": "code",
   "execution_count": null,
   "id": "e5aacf11-8a18-408a-8db5-5bd6c431ba4e",
   "metadata": {},
   "outputs": [],
   "source": [
    "overall_mean_time = data5.groupby('Project ID')['Funding Time'].mean()\n",
    "output = overall_mean_time.mean()\n",
    "output"
   ]
  },
  {
   "cell_type": "code",
   "execution_count": null,
   "id": "dd348b55-5c56-42fb-b1a9-184c5d82b0ed",
   "metadata": {},
   "outputs": [],
   "source": [
    "#Average funding time for each state\n",
    "\n",
    "state_project_funding_time = data5.groupby(['School State' , 'Project ID'])['Funding Time'].mean()\n",
    "state_project_funding_time"
   ]
  },
  {
   "cell_type": "code",
   "execution_count": null,
   "id": "920e4060-5c32-480e-bb82-8f5a77b99f5f",
   "metadata": {},
   "outputs": [],
   "source": [
    "state_average_project_funding_time = state_project_funding_time.groupby('School State').mean()\n",
    "state_average_project_funding_time.round(0)"
   ]
  },
  {
   "cell_type": "code",
   "execution_count": null,
   "id": "1d35be1c-0249-4a61-8150-3015aaa07f43",
   "metadata": {},
   "outputs": [],
   "source": [
    "fast = state_average_project_funding_time.round(0)\n",
    "fast[fast<32].sort_values().head(10)"
   ]
  },
  {
   "cell_type": "code",
   "execution_count": null,
   "id": "b3d4dbc0-4754-4001-8f1a-7ea6fc6db61b",
   "metadata": {},
   "outputs": [],
   "source": [
    "fast_funding = fast[fast<32].sort_values().head(10)\n",
    "fast_funding.iplot(kind='bar' , xTitle='States' , yTitle='fully funding time(in days)',\n",
    "                  title='states that fund projects earlier than others',\n",
    "                  colorscale='paired')"
   ]
  },
  {
   "cell_type": "code",
   "execution_count": null,
   "id": "41548767-8367-46bc-8de0-65f4890d95f8",
   "metadata": {},
   "outputs": [],
   "source": [
    "slow = state_average_project_funding_time.round(0)\n",
    "slow[slow>32].sort_values(ascending = False).head(10)"
   ]
  },
  {
   "cell_type": "code",
   "execution_count": null,
   "id": "d87e73ef-ca38-48d1-b259-21b11553f8ea",
   "metadata": {},
   "outputs": [],
   "source": [
    "slow_funding = slow[slow>32].sort_values(ascending = False).head(10)\n",
    "slow_funding.iplot(kind='bar' , xTitle='States' , yTitle='fully funding time(in days)',\n",
    "                  title='states that fund projects earlier than others'\n",
    "                  )"
   ]
  },
  {
   "cell_type": "code",
   "execution_count": null,
   "id": "70cddd72-c604-42ff-bcc0-53bab663ab9c",
   "metadata": {},
   "outputs": [],
   "source": []
  }
 ],
 "metadata": {
  "kernelspec": {
   "display_name": "Python 3 (ipykernel)",
   "language": "python",
   "name": "python3"
  },
  "language_info": {
   "codemirror_mode": {
    "name": "ipython",
    "version": 3
   },
   "file_extension": ".py",
   "mimetype": "text/x-python",
   "name": "python",
   "nbconvert_exporter": "python",
   "pygments_lexer": "ipython3",
   "version": "3.12.7"
  }
 },
 "nbformat": 4,
 "nbformat_minor": 5
}
